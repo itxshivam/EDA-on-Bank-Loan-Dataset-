{
 "cells": [
  {
   "cell_type": "code",
   "execution_count": 119,
   "id": "1cb7ce3c",
   "metadata": {},
   "outputs": [],
   "source": [
    "import pandas as pd\n",
    "import numpy as np\n",
    "import seaborn as sns\n",
    "import matplotlib.pyplot as plt\n",
    "%matplotlib inline"
   ]
  },
  {
   "cell_type": "code",
   "execution_count": 120,
   "id": "0de8e5ac",
   "metadata": {},
   "outputs": [],
   "source": [
    "data= pd.read_csv('credit_train.csv')"
   ]
  },
  {
   "cell_type": "code",
   "execution_count": 121,
   "id": "824a149c",
   "metadata": {},
   "outputs": [
    {
     "data": {
      "text/html": [
       "<div>\n",
       "<style scoped>\n",
       "    .dataframe tbody tr th:only-of-type {\n",
       "        vertical-align: middle;\n",
       "    }\n",
       "\n",
       "    .dataframe tbody tr th {\n",
       "        vertical-align: top;\n",
       "    }\n",
       "\n",
       "    .dataframe thead th {\n",
       "        text-align: right;\n",
       "    }\n",
       "</style>\n",
       "<table border=\"1\" class=\"dataframe\">\n",
       "  <thead>\n",
       "    <tr style=\"text-align: right;\">\n",
       "      <th></th>\n",
       "      <th>Loan ID</th>\n",
       "      <th>Customer ID</th>\n",
       "      <th>Loan Status</th>\n",
       "      <th>Current Loan Amount</th>\n",
       "      <th>Term</th>\n",
       "      <th>Credit Score</th>\n",
       "      <th>Annual Income</th>\n",
       "      <th>Years in current job</th>\n",
       "      <th>Home Ownership</th>\n",
       "      <th>Purpose</th>\n",
       "      <th>Monthly Debt</th>\n",
       "      <th>Years of Credit History</th>\n",
       "      <th>Months since last delinquent</th>\n",
       "      <th>Number of Open Accounts</th>\n",
       "      <th>Number of Credit Problems</th>\n",
       "      <th>Current Credit Balance</th>\n",
       "      <th>Maximum Open Credit</th>\n",
       "      <th>Bankruptcies</th>\n",
       "      <th>Tax Liens</th>\n",
       "    </tr>\n",
       "  </thead>\n",
       "  <tbody>\n",
       "    <tr>\n",
       "      <th>0</th>\n",
       "      <td>14dd8831-6af5-400b-83ec-68e61888a048</td>\n",
       "      <td>981165ec-3274-42f5-a3b4-d104041a9ca9</td>\n",
       "      <td>Fully Paid</td>\n",
       "      <td>445412.0</td>\n",
       "      <td>Short Term</td>\n",
       "      <td>709.0</td>\n",
       "      <td>1167493.0</td>\n",
       "      <td>8 years</td>\n",
       "      <td>Home Mortgage</td>\n",
       "      <td>Home Improvements</td>\n",
       "      <td>5214.74</td>\n",
       "      <td>17.2</td>\n",
       "      <td>NaN</td>\n",
       "      <td>6.0</td>\n",
       "      <td>1.0</td>\n",
       "      <td>228190.0</td>\n",
       "      <td>416746.0</td>\n",
       "      <td>1.0</td>\n",
       "      <td>0.0</td>\n",
       "    </tr>\n",
       "    <tr>\n",
       "      <th>1</th>\n",
       "      <td>4771cc26-131a-45db-b5aa-537ea4ba5342</td>\n",
       "      <td>2de017a3-2e01-49cb-a581-08169e83be29</td>\n",
       "      <td>Fully Paid</td>\n",
       "      <td>262328.0</td>\n",
       "      <td>Short Term</td>\n",
       "      <td>NaN</td>\n",
       "      <td>NaN</td>\n",
       "      <td>10+ years</td>\n",
       "      <td>Home Mortgage</td>\n",
       "      <td>Debt Consolidation</td>\n",
       "      <td>33295.98</td>\n",
       "      <td>21.1</td>\n",
       "      <td>8.0</td>\n",
       "      <td>35.0</td>\n",
       "      <td>0.0</td>\n",
       "      <td>229976.0</td>\n",
       "      <td>850784.0</td>\n",
       "      <td>0.0</td>\n",
       "      <td>0.0</td>\n",
       "    </tr>\n",
       "    <tr>\n",
       "      <th>2</th>\n",
       "      <td>4eed4e6a-aa2f-4c91-8651-ce984ee8fb26</td>\n",
       "      <td>5efb2b2b-bf11-4dfd-a572-3761a2694725</td>\n",
       "      <td>Fully Paid</td>\n",
       "      <td>99999999.0</td>\n",
       "      <td>Short Term</td>\n",
       "      <td>741.0</td>\n",
       "      <td>2231892.0</td>\n",
       "      <td>8 years</td>\n",
       "      <td>Own Home</td>\n",
       "      <td>Debt Consolidation</td>\n",
       "      <td>29200.53</td>\n",
       "      <td>14.9</td>\n",
       "      <td>29.0</td>\n",
       "      <td>18.0</td>\n",
       "      <td>1.0</td>\n",
       "      <td>297996.0</td>\n",
       "      <td>750090.0</td>\n",
       "      <td>0.0</td>\n",
       "      <td>0.0</td>\n",
       "    </tr>\n",
       "    <tr>\n",
       "      <th>3</th>\n",
       "      <td>77598f7b-32e7-4e3b-a6e5-06ba0d98fe8a</td>\n",
       "      <td>e777faab-98ae-45af-9a86-7ce5b33b1011</td>\n",
       "      <td>Fully Paid</td>\n",
       "      <td>347666.0</td>\n",
       "      <td>Long Term</td>\n",
       "      <td>721.0</td>\n",
       "      <td>806949.0</td>\n",
       "      <td>3 years</td>\n",
       "      <td>Own Home</td>\n",
       "      <td>Debt Consolidation</td>\n",
       "      <td>8741.90</td>\n",
       "      <td>12.0</td>\n",
       "      <td>NaN</td>\n",
       "      <td>9.0</td>\n",
       "      <td>0.0</td>\n",
       "      <td>256329.0</td>\n",
       "      <td>386958.0</td>\n",
       "      <td>0.0</td>\n",
       "      <td>0.0</td>\n",
       "    </tr>\n",
       "    <tr>\n",
       "      <th>4</th>\n",
       "      <td>d4062e70-befa-4995-8643-a0de73938182</td>\n",
       "      <td>81536ad9-5ccf-4eb8-befb-47a4d608658e</td>\n",
       "      <td>Fully Paid</td>\n",
       "      <td>176220.0</td>\n",
       "      <td>Short Term</td>\n",
       "      <td>NaN</td>\n",
       "      <td>NaN</td>\n",
       "      <td>5 years</td>\n",
       "      <td>Rent</td>\n",
       "      <td>Debt Consolidation</td>\n",
       "      <td>20639.70</td>\n",
       "      <td>6.1</td>\n",
       "      <td>NaN</td>\n",
       "      <td>15.0</td>\n",
       "      <td>0.0</td>\n",
       "      <td>253460.0</td>\n",
       "      <td>427174.0</td>\n",
       "      <td>0.0</td>\n",
       "      <td>0.0</td>\n",
       "    </tr>\n",
       "  </tbody>\n",
       "</table>\n",
       "</div>"
      ],
      "text/plain": [
       "                                Loan ID                           Customer ID  \\\n",
       "0  14dd8831-6af5-400b-83ec-68e61888a048  981165ec-3274-42f5-a3b4-d104041a9ca9   \n",
       "1  4771cc26-131a-45db-b5aa-537ea4ba5342  2de017a3-2e01-49cb-a581-08169e83be29   \n",
       "2  4eed4e6a-aa2f-4c91-8651-ce984ee8fb26  5efb2b2b-bf11-4dfd-a572-3761a2694725   \n",
       "3  77598f7b-32e7-4e3b-a6e5-06ba0d98fe8a  e777faab-98ae-45af-9a86-7ce5b33b1011   \n",
       "4  d4062e70-befa-4995-8643-a0de73938182  81536ad9-5ccf-4eb8-befb-47a4d608658e   \n",
       "\n",
       "  Loan Status  Current Loan Amount        Term  Credit Score  Annual Income  \\\n",
       "0  Fully Paid             445412.0  Short Term         709.0      1167493.0   \n",
       "1  Fully Paid             262328.0  Short Term           NaN            NaN   \n",
       "2  Fully Paid           99999999.0  Short Term         741.0      2231892.0   \n",
       "3  Fully Paid             347666.0   Long Term         721.0       806949.0   \n",
       "4  Fully Paid             176220.0  Short Term           NaN            NaN   \n",
       "\n",
       "  Years in current job Home Ownership             Purpose  Monthly Debt  \\\n",
       "0              8 years  Home Mortgage   Home Improvements       5214.74   \n",
       "1            10+ years  Home Mortgage  Debt Consolidation      33295.98   \n",
       "2              8 years       Own Home  Debt Consolidation      29200.53   \n",
       "3              3 years       Own Home  Debt Consolidation       8741.90   \n",
       "4              5 years           Rent  Debt Consolidation      20639.70   \n",
       "\n",
       "   Years of Credit History  Months since last delinquent  \\\n",
       "0                     17.2                           NaN   \n",
       "1                     21.1                           8.0   \n",
       "2                     14.9                          29.0   \n",
       "3                     12.0                           NaN   \n",
       "4                      6.1                           NaN   \n",
       "\n",
       "   Number of Open Accounts  Number of Credit Problems  Current Credit Balance  \\\n",
       "0                      6.0                        1.0                228190.0   \n",
       "1                     35.0                        0.0                229976.0   \n",
       "2                     18.0                        1.0                297996.0   \n",
       "3                      9.0                        0.0                256329.0   \n",
       "4                     15.0                        0.0                253460.0   \n",
       "\n",
       "   Maximum Open Credit  Bankruptcies  Tax Liens  \n",
       "0             416746.0           1.0        0.0  \n",
       "1             850784.0           0.0        0.0  \n",
       "2             750090.0           0.0        0.0  \n",
       "3             386958.0           0.0        0.0  \n",
       "4             427174.0           0.0        0.0  "
      ]
     },
     "execution_count": 121,
     "metadata": {},
     "output_type": "execute_result"
    }
   ],
   "source": [
    "data.head()"
   ]
  },
  {
   "cell_type": "code",
   "execution_count": 122,
   "id": "4f3e6337",
   "metadata": {},
   "outputs": [
    {
     "data": {
      "text/plain": [
       "(100514, 19)"
      ]
     },
     "execution_count": 122,
     "metadata": {},
     "output_type": "execute_result"
    }
   ],
   "source": [
    "data.shape"
   ]
  },
  {
   "cell_type": "markdown",
   "id": "12c3dba9",
   "metadata": {},
   "source": [
    "## variable analysis"
   ]
  },
  {
   "cell_type": "markdown",
   "id": "e21cfe27",
   "metadata": {},
   "source": [
    "let us see datatypes of each variables"
   ]
  },
  {
   "cell_type": "code",
   "execution_count": 123,
   "id": "a0e58680",
   "metadata": {},
   "outputs": [
    {
     "data": {
      "text/plain": [
       "Loan ID                          object\n",
       "Customer ID                      object\n",
       "Loan Status                      object\n",
       "Current Loan Amount             float64\n",
       "Term                             object\n",
       "Credit Score                    float64\n",
       "Annual Income                   float64\n",
       "Years in current job             object\n",
       "Home Ownership                   object\n",
       "Purpose                          object\n",
       "Monthly Debt                    float64\n",
       "Years of Credit History         float64\n",
       "Months since last delinquent    float64\n",
       "Number of Open Accounts         float64\n",
       "Number of Credit Problems       float64\n",
       "Current Credit Balance          float64\n",
       "Maximum Open Credit             float64\n",
       "Bankruptcies                    float64\n",
       "Tax Liens                       float64\n",
       "dtype: object"
      ]
     },
     "execution_count": 123,
     "metadata": {},
     "output_type": "execute_result"
    }
   ],
   "source": [
    "data.dtypes"
   ]
  },
  {
   "cell_type": "markdown",
   "id": "0e9db052",
   "metadata": {},
   "source": [
    "for model prediction  there are no use of Loan ID and Customer ID ,but if you talk about insight  then  both columns are mandetory to search out detail about customer id or loan id.\n",
    "\n",
    "so, for now we have not delete both upper columns."
   ]
  },
  {
   "cell_type": "code",
   "execution_count": 124,
   "id": "0f0e0cab",
   "metadata": {},
   "outputs": [
    {
     "data": {
      "text/plain": [
       "Fully Paid     77361\n",
       "Charged Off    22639\n",
       "Name: Loan Status, dtype: int64"
      ]
     },
     "execution_count": 124,
     "metadata": {},
     "output_type": "execute_result"
    }
   ],
   "source": [
    "data['Loan Status'].value_counts()"
   ]
  },
  {
   "cell_type": "markdown",
   "id": "e61fb200",
   "metadata": {},
   "source": [
    "in loan status , here fully paid means the person who take debt has been paid all debt by the time.\n",
    "and in charged off means the person or coustomer who take loan has not been able to take pay his debt since long time .\n",
    " so creditor has labled this type of customer id  as charged off and send data to collecting agency.\n",
    " \n",
    "this information is very necessery in prediction or take any decision . so we can not alter or change this columns.\n",
    "\n",
    " Loan status is dependent variable and rest all are independent.\n"
   ]
  },
  {
   "cell_type": "code",
   "execution_count": 125,
   "id": "3baa1e9f",
   "metadata": {},
   "outputs": [],
   "source": [
    "# around 30% of loan customer labeled as charged off or unable to pay their loan."
   ]
  },
  {
   "cell_type": "markdown",
   "id": "b67839ae",
   "metadata": {},
   "source": [
    "## univarient  analysis and missing value"
   ]
  },
  {
   "cell_type": "code",
   "execution_count": 126,
   "id": "c3f3c91b",
   "metadata": {},
   "outputs": [
    {
     "data": {
      "text/plain": [
       "Short Term    72208\n",
       "Long Term     27792\n",
       "Name: Term, dtype: int64"
      ]
     },
     "execution_count": 126,
     "metadata": {},
     "output_type": "execute_result"
    }
   ],
   "source": [
    "data['Term'].value_counts()"
   ]
  },
  {
   "cell_type": "markdown",
   "id": "2dd3cdcd",
   "metadata": {},
   "source": [
    "there are two types of loan offered by creditor , first short term means loan paid or will pay within short duration.\n",
    "and second long term means load paid or will pay within long term."
   ]
  },
  {
   "cell_type": "code",
   "execution_count": 127,
   "id": "6cd5b509",
   "metadata": {},
   "outputs": [],
   "source": [
    "# around 30% loan term are long term rest are short term."
   ]
  },
  {
   "cell_type": "code",
   "execution_count": 128,
   "id": "c33572c6",
   "metadata": {},
   "outputs": [
    {
     "data": {
      "text/plain": [
       "count    80846.000000\n",
       "mean      1076.456089\n",
       "std       1475.403791\n",
       "min        585.000000\n",
       "25%        705.000000\n",
       "50%        724.000000\n",
       "75%        741.000000\n",
       "max       7510.000000\n",
       "Name: Credit Score, dtype: float64"
      ]
     },
     "execution_count": 128,
     "metadata": {},
     "output_type": "execute_result"
    }
   ],
   "source": [
    "data['Credit Score'].describe()"
   ]
  },
  {
   "cell_type": "code",
   "execution_count": 129,
   "id": "253baf59",
   "metadata": {},
   "outputs": [],
   "source": [
    "# there is no loan for whose credit score below 585."
   ]
  },
  {
   "cell_type": "markdown",
   "id": "740f6461",
   "metadata": {},
   "source": [
    "Credit score - the score on which bank decide ,which customer is loyal to pay their loan within appropriate time duration . this score given by analyst on the basic of customer transation,credit,balance or history of customer.\n",
    "\n",
    "credit score never be more than 900 . any number which is more than 900 is human error so we should correct it by dividing 10 on it."
   ]
  },
  {
   "cell_type": "code",
   "execution_count": 130,
   "id": "47a41414",
   "metadata": {},
   "outputs": [],
   "source": [
    "data['Credit Score'] = np.where(data['Credit Score']>900 , data['Credit Score']/10,data['Credit Score'])"
   ]
  },
  {
   "cell_type": "code",
   "execution_count": 131,
   "id": "c65a170d",
   "metadata": {},
   "outputs": [
    {
     "data": {
      "text/plain": [
       "count    80846.000000\n",
       "mean       716.293447\n",
       "std         28.297164\n",
       "min        585.000000\n",
       "25%        703.000000\n",
       "50%        722.000000\n",
       "75%        738.000000\n",
       "max        751.000000\n",
       "Name: Credit Score, dtype: float64"
      ]
     },
     "execution_count": 131,
     "metadata": {},
     "output_type": "execute_result"
    }
   ],
   "source": [
    "data['Credit Score'].describe()"
   ]
  },
  {
   "cell_type": "code",
   "execution_count": 132,
   "id": "bd293175",
   "metadata": {},
   "outputs": [
    {
     "data": {
      "text/plain": [
       "Loan ID                          object\n",
       "Customer ID                      object\n",
       "Loan Status                      object\n",
       "Current Loan Amount             float64\n",
       "Term                             object\n",
       "Credit Score                    float64\n",
       "Annual Income                   float64\n",
       "Years in current job             object\n",
       "Home Ownership                   object\n",
       "Purpose                          object\n",
       "Monthly Debt                    float64\n",
       "Years of Credit History         float64\n",
       "Months since last delinquent    float64\n",
       "Number of Open Accounts         float64\n",
       "Number of Credit Problems       float64\n",
       "Current Credit Balance          float64\n",
       "Maximum Open Credit             float64\n",
       "Bankruptcies                    float64\n",
       "Tax Liens                       float64\n",
       "dtype: object"
      ]
     },
     "execution_count": 132,
     "metadata": {},
     "output_type": "execute_result"
    }
   ],
   "source": [
    "data.dtypes"
   ]
  },
  {
   "cell_type": "code",
   "execution_count": 133,
   "id": "6497ae3e",
   "metadata": {},
   "outputs": [
    {
     "data": {
      "text/plain": [
       "1162572.0    22\n",
       "973370.0     19\n",
       "969475.0     18\n",
       "1140000.0    18\n",
       "949905.0     17\n",
       "             ..\n",
       "552558.0      1\n",
       "610033.0      1\n",
       "775010.0      1\n",
       "992997.0      1\n",
       "1289416.0     1\n",
       "Name: Annual Income, Length: 36174, dtype: int64"
      ]
     },
     "execution_count": 133,
     "metadata": {},
     "output_type": "execute_result"
    }
   ],
   "source": [
    "data['Annual Income'].value_counts()"
   ]
  },
  {
   "cell_type": "code",
   "execution_count": 134,
   "id": "cc825b7b",
   "metadata": {},
   "outputs": [
    {
     "data": {
      "text/plain": [
       "count    8.084600e+04\n",
       "mean     1.378277e+06\n",
       "std      1.081360e+06\n",
       "min      7.662700e+04\n",
       "25%      8.488440e+05\n",
       "50%      1.174162e+06\n",
       "75%      1.650663e+06\n",
       "max      1.655574e+08\n",
       "Name: Annual Income, dtype: float64"
      ]
     },
     "execution_count": 134,
     "metadata": {},
     "output_type": "execute_result"
    }
   ],
   "source": [
    "data['Annual Income'].describe()"
   ]
  },
  {
   "cell_type": "code",
   "execution_count": 64,
   "id": "82e4f181",
   "metadata": {},
   "outputs": [
    {
     "data": {
      "text/plain": [
       "10+ years    31121\n",
       "2 years       9134\n",
       "3 years       8169\n",
       "< 1 year      8164\n",
       "5 years       6787\n",
       "1 year        6460\n",
       "4 years       6143\n",
       "6 years       5686\n",
       "7 years       5577\n",
       "8 years       4582\n",
       "9 years       3955\n",
       "Name: Years in current job, dtype: int64"
      ]
     },
     "execution_count": 64,
     "metadata": {},
     "output_type": "execute_result"
    }
   ],
   "source": [
    "data['Years in current job'].value_counts()"
   ]
  },
  {
   "cell_type": "code",
   "execution_count": 135,
   "id": "5de0de20",
   "metadata": {},
   "outputs": [],
   "source": [
    "#  10+ year in current job can easly get loan."
   ]
  },
  {
   "cell_type": "code",
   "execution_count": 65,
   "id": "98f85c31",
   "metadata": {},
   "outputs": [
    {
     "data": {
      "text/plain": [
       "Home Mortgage    48410\n",
       "Rent             42194\n",
       "Own Home          9182\n",
       "HaveMortgage       214\n",
       "Name: Home Ownership, dtype: int64"
      ]
     },
     "execution_count": 65,
     "metadata": {},
     "output_type": "execute_result"
    }
   ],
   "source": [
    "data['Home Ownership'].value_counts()"
   ]
  },
  {
   "cell_type": "code",
   "execution_count": 138,
   "id": "40dcd618",
   "metadata": {},
   "outputs": [],
   "source": [
    "# max customer who get loan  are either  home mortgage or  rent as  their home Ownership, "
   ]
  },
  {
   "cell_type": "code",
   "execution_count": 66,
   "id": "2f39b85b",
   "metadata": {},
   "outputs": [
    {
     "data": {
      "text/plain": [
       "Debt Consolidation      78552\n",
       "other                    6037\n",
       "Home Improvements        5839\n",
       "Other                    3250\n",
       "Business Loan            1569\n",
       "Buy a Car                1265\n",
       "Medical Bills            1127\n",
       "Buy House                 678\n",
       "Take a Trip               573\n",
       "major_purchase            352\n",
       "small_business            283\n",
       "moving                    150\n",
       "wedding                   115\n",
       "vacation                  101\n",
       "Educational Expenses       99\n",
       "renewable_energy           10\n",
       "Name: Purpose, dtype: int64"
      ]
     },
     "execution_count": 66,
     "metadata": {},
     "output_type": "execute_result"
    }
   ],
   "source": [
    "data['Purpose'].value_counts()"
   ]
  },
  {
   "cell_type": "code",
   "execution_count": 139,
   "id": "78f963ae",
   "metadata": {},
   "outputs": [],
   "source": [
    "# 78% customer  get load for purpose of Debt Consolidation."
   ]
  },
  {
   "cell_type": "code",
   "execution_count": 67,
   "id": "48154aad",
   "metadata": {},
   "outputs": [],
   "source": [
    "data['Purpose']=data['Purpose'].map({'Debt Consolidation':'Debt Consolidation',\n",
    "                                     'other':'Other',\n",
    "                                     'Home Improvements':'Home Improvements',\n",
    "                                      'Other': 'Other',\n",
    "                                     'Business Loan':'Business Loan',\n",
    "                                      'Buy a Car':'Buy a Car',\n",
    "                                      'Medical Bills':'Medical Bills',\n",
    "                                       'Buy House':'Buy House',\n",
    "                                       'Take a Trip':'Take a Trip',\n",
    "                                       'major_purchase':'major_purchase',\n",
    "                                        'small_business': 'small_business',\n",
    "                                        'moving':'moving',\n",
    "                                        'wedding':'wedding',\n",
    "                                        'vacation':'vacation',\n",
    "                                        'Educational Expenses': 'Educational Expenses',\n",
    "                                        'renewable_energy':'renewable_energy'})"
   ]
  },
  {
   "cell_type": "code",
   "execution_count": 68,
   "id": "06af9bb7",
   "metadata": {},
   "outputs": [
    {
     "data": {
      "text/plain": [
       "Debt Consolidation      78552\n",
       "Other                    9287\n",
       "Home Improvements        5839\n",
       "Business Loan            1569\n",
       "Buy a Car                1265\n",
       "Medical Bills            1127\n",
       "Buy House                 678\n",
       "Take a Trip               573\n",
       "major_purchase            352\n",
       "small_business            283\n",
       "moving                    150\n",
       "wedding                   115\n",
       "vacation                  101\n",
       "Educational Expenses       99\n",
       "renewable_energy           10\n",
       "Name: Purpose, dtype: int64"
      ]
     },
     "execution_count": 68,
     "metadata": {},
     "output_type": "execute_result"
    }
   ],
   "source": [
    "data['Purpose'].value_counts()"
   ]
  },
  {
   "cell_type": "code",
   "execution_count": 69,
   "id": "1669a4a7",
   "metadata": {},
   "outputs": [
    {
     "data": {
      "text/plain": [
       "Loan ID                          object\n",
       "Customer ID                      object\n",
       "Loan Status                      object\n",
       "Current Loan Amount             float64\n",
       "Term                             object\n",
       "Credit Score                    float64\n",
       "Annual Income                   float64\n",
       "Years in current job             object\n",
       "Home Ownership                   object\n",
       "Purpose                          object\n",
       "Monthly Debt                    float64\n",
       "Years of Credit History         float64\n",
       "Months since last delinquent    float64\n",
       "Number of Open Accounts         float64\n",
       "Number of Credit Problems       float64\n",
       "Current Credit Balance          float64\n",
       "Maximum Open Credit             float64\n",
       "Bankruptcies                    float64\n",
       "Tax Liens                       float64\n",
       "dtype: object"
      ]
     },
     "execution_count": 69,
     "metadata": {},
     "output_type": "execute_result"
    }
   ],
   "source": [
    "data.dtypes"
   ]
  },
  {
   "cell_type": "code",
   "execution_count": 70,
   "id": "e3a360af",
   "metadata": {},
   "outputs": [
    {
     "data": {
      "text/plain": [
       "16.0    1340\n",
       "15.0    1305\n",
       "17.0    1219\n",
       "16.5    1176\n",
       "14.0    1151\n",
       "        ... \n",
       "3.6        1\n",
       "70.5       1\n",
       "52.6       1\n",
       "52.3       1\n",
       "51.4       1\n",
       "Name: Years of Credit History, Length: 506, dtype: int64"
      ]
     },
     "execution_count": 70,
     "metadata": {},
     "output_type": "execute_result"
    }
   ],
   "source": [
    "data['Years of Credit History'].value_counts()"
   ]
  },
  {
   "cell_type": "code",
   "execution_count": 71,
   "id": "402dfc34",
   "metadata": {},
   "outputs": [
    {
     "data": {
      "text/plain": [
       "0.0    88774\n",
       "1.0    10475\n",
       "2.0      417\n",
       "3.0       93\n",
       "4.0       27\n",
       "5.0        7\n",
       "6.0        2\n",
       "7.0        1\n",
       "Name: Bankruptcies, dtype: int64"
      ]
     },
     "execution_count": 71,
     "metadata": {},
     "output_type": "execute_result"
    }
   ],
   "source": [
    "data['Bankruptcies'].value_counts()"
   ]
  },
  {
   "cell_type": "code",
   "execution_count": 72,
   "id": "3014250b",
   "metadata": {},
   "outputs": [
    {
     "data": {
      "text/plain": [
       "0.0     98062\n",
       "1.0      1343\n",
       "2.0       374\n",
       "3.0       111\n",
       "4.0        58\n",
       "5.0        16\n",
       "6.0        12\n",
       "7.0         7\n",
       "9.0         3\n",
       "11.0        2\n",
       "15.0        1\n",
       "10.0        1\n",
       "Name: Tax Liens, dtype: int64"
      ]
     },
     "execution_count": 72,
     "metadata": {},
     "output_type": "execute_result"
    }
   ],
   "source": [
    "data['Tax Liens'].value_counts()"
   ]
  },
  {
   "cell_type": "markdown",
   "id": "f5b1f71f",
   "metadata": {},
   "source": [
    "Tax Liens-If anyone fail to repay the mortgage the bank has the legal rights to seal their property. Tax liens are the liens created by law. The law often allows tax authorities to put liens on properties of taxpayers who do not pay the taxes on time.\n",
    " \n",
    " any null value which is occur in Bankruptcies and Tax LInes  will not be imputed with another center number like mean,median,mode."
   ]
  },
  {
   "cell_type": "code",
   "execution_count": 73,
   "id": "2c561a3d",
   "metadata": {},
   "outputs": [
    {
     "data": {
      "text/plain": [
       "Loan ID                           514\n",
       "Customer ID                       514\n",
       "Loan Status                       514\n",
       "Current Loan Amount               514\n",
       "Term                              514\n",
       "Credit Score                    19668\n",
       "Annual Income                   19668\n",
       "Years in current job             4736\n",
       "Home Ownership                    514\n",
       "Purpose                           514\n",
       "Monthly Debt                      514\n",
       "Years of Credit History           514\n",
       "Months since last delinquent    53655\n",
       "Number of Open Accounts           514\n",
       "Number of Credit Problems         514\n",
       "Current Credit Balance            514\n",
       "Maximum Open Credit               516\n",
       "Bankruptcies                      718\n",
       "Tax Liens                         524\n",
       "dtype: int64"
      ]
     },
     "execution_count": 73,
     "metadata": {},
     "output_type": "execute_result"
    }
   ],
   "source": [
    "data.isnull().sum()"
   ]
  },
  {
   "cell_type": "code",
   "execution_count": 141,
   "id": "d9304918",
   "metadata": {},
   "outputs": [],
   "source": [
    "# there are 718 Bankruptcies and 524 Tax liens which is around .7 and .5 percentage respectively."
   ]
  },
  {
   "cell_type": "markdown",
   "id": "72a6df38",
   "metadata": {},
   "source": [
    " first of all we delete 514 rows from all data.                                                       \n",
    " and then delete  Months since last delinquent columns because there are more than 50% values are missing or null.\n"
   ]
  },
  {
   "cell_type": "code",
   "execution_count": 74,
   "id": "32104f37",
   "metadata": {},
   "outputs": [],
   "source": [
    "data.dropna(axis=0,subset='Loan Status',inplace=True)"
   ]
  },
  {
   "cell_type": "code",
   "execution_count": 75,
   "id": "62da349a",
   "metadata": {},
   "outputs": [
    {
     "data": {
      "text/plain": [
       "Loan ID                             0\n",
       "Customer ID                         0\n",
       "Loan Status                         0\n",
       "Current Loan Amount                 0\n",
       "Term                                0\n",
       "Credit Score                    19154\n",
       "Annual Income                   19154\n",
       "Years in current job             4222\n",
       "Home Ownership                      0\n",
       "Purpose                             0\n",
       "Monthly Debt                        0\n",
       "Years of Credit History             0\n",
       "Months since last delinquent    53141\n",
       "Number of Open Accounts             0\n",
       "Number of Credit Problems           0\n",
       "Current Credit Balance              0\n",
       "Maximum Open Credit                 2\n",
       "Bankruptcies                      204\n",
       "Tax Liens                          10\n",
       "dtype: int64"
      ]
     },
     "execution_count": 75,
     "metadata": {},
     "output_type": "execute_result"
    }
   ],
   "source": [
    "data.isnull().sum()"
   ]
  },
  {
   "cell_type": "code",
   "execution_count": 76,
   "id": "96b99840",
   "metadata": {},
   "outputs": [],
   "source": [
    "data.drop(labels='Months since last delinquent',axis=1,inplace=True)"
   ]
  },
  {
   "cell_type": "code",
   "execution_count": 77,
   "id": "9c1b2106",
   "metadata": {},
   "outputs": [
    {
     "data": {
      "text/plain": [
       "Loan ID                          0\n",
       "Customer ID                      0\n",
       "Loan Status                      0\n",
       "Current Loan Amount              0\n",
       "Term                             0\n",
       "Credit Score                 19154\n",
       "Annual Income                19154\n",
       "Years in current job          4222\n",
       "Home Ownership                   0\n",
       "Purpose                          0\n",
       "Monthly Debt                     0\n",
       "Years of Credit History          0\n",
       "Number of Open Accounts          0\n",
       "Number of Credit Problems        0\n",
       "Current Credit Balance           0\n",
       "Maximum Open Credit              2\n",
       "Bankruptcies                   204\n",
       "Tax Liens                       10\n",
       "dtype: int64"
      ]
     },
     "execution_count": 77,
     "metadata": {},
     "output_type": "execute_result"
    }
   ],
   "source": [
    "data.isnull().sum()"
   ]
  },
  {
   "cell_type": "markdown",
   "id": "584eed4b",
   "metadata": {},
   "source": [
    "So we will prefer here to replace missing values by Random Number fron the Respective column.That will help us to keep the Distribution in original form.So lets Check Summary for these column before and after Imputation.\n",
    "\n",
    "We tried interpolation here because we dont want to replace missing values by mean or median .Reason is that if you do that it will affect your distribution of data.So we want to handle data as well as maintain the distribution in line for modelling purporse."
   ]
  },
  {
   "cell_type": "code",
   "execution_count": 79,
   "id": "4c2959de",
   "metadata": {},
   "outputs": [
    {
     "data": {
      "text/plain": [
       "0          8 years\n",
       "1        10+ years\n",
       "2          8 years\n",
       "3          3 years\n",
       "4          5 years\n",
       "           ...    \n",
       "99995      7 years\n",
       "99996       1 year\n",
       "99997      6 years\n",
       "99998      9 years\n",
       "99999          NaN\n",
       "Name: Years in current job, Length: 100000, dtype: object"
      ]
     },
     "execution_count": 79,
     "metadata": {},
     "output_type": "execute_result"
    }
   ],
   "source": [
    "data['Years in current job']"
   ]
  },
  {
   "cell_type": "code",
   "execution_count": 80,
   "id": "6bd5511e",
   "metadata": {},
   "outputs": [
    {
     "data": {
      "text/plain": [
       "Loan ID                          0\n",
       "Customer ID                      0\n",
       "Loan Status                      0\n",
       "Current Loan Amount              0\n",
       "Term                             0\n",
       "Credit Score                 19154\n",
       "Annual Income                19154\n",
       "Years in current job          4222\n",
       "Home Ownership                   0\n",
       "Purpose                          0\n",
       "Monthly Debt                     0\n",
       "Years of Credit History          0\n",
       "Number of Open Accounts          0\n",
       "Number of Credit Problems        0\n",
       "Current Credit Balance           0\n",
       "Maximum Open Credit              2\n",
       "Bankruptcies                   204\n",
       "Tax Liens                       10\n",
       "dtype: int64"
      ]
     },
     "execution_count": 80,
     "metadata": {},
     "output_type": "execute_result"
    }
   ],
   "source": [
    "data.isna().sum()"
   ]
  },
  {
   "cell_type": "markdown",
   "id": "2aea6c92",
   "metadata": {},
   "source": [
    "So we will prefer here to replace missing values by Random Number fron the Respective column.That will help us to keep the Distribution in original form.So lets Check Summary for these column before and after Imputation.\n",
    "\n",
    "We tried interpolation here because we dont want to replace missing values by mean or median .Reason is that if you do that it will affect your distribution of data.So we want to handle data as well as maintain the distribution in line for modelling purporse."
   ]
  },
  {
   "cell_type": "code",
   "execution_count": 81,
   "id": "a59d625d",
   "metadata": {},
   "outputs": [],
   "source": [
    "data.dropna(axis=0,subset='Bankruptcies',inplace=True)"
   ]
  },
  {
   "cell_type": "code",
   "execution_count": 82,
   "id": "d680d0b5",
   "metadata": {},
   "outputs": [
    {
     "data": {
      "text/plain": [
       "Loan ID                          0\n",
       "Customer ID                      0\n",
       "Loan Status                      0\n",
       "Current Loan Amount              0\n",
       "Term                             0\n",
       "Credit Score                 19112\n",
       "Annual Income                19112\n",
       "Years in current job          4222\n",
       "Home Ownership                   0\n",
       "Purpose                          0\n",
       "Monthly Debt                     0\n",
       "Years of Credit History          0\n",
       "Number of Open Accounts          0\n",
       "Number of Credit Problems        0\n",
       "Current Credit Balance           0\n",
       "Maximum Open Credit              2\n",
       "Bankruptcies                     0\n",
       "Tax Liens                        0\n",
       "dtype: int64"
      ]
     },
     "execution_count": 82,
     "metadata": {},
     "output_type": "execute_result"
    }
   ],
   "source": [
    "data.isna().sum()"
   ]
  },
  {
   "cell_type": "code",
   "execution_count": 83,
   "id": "c378822e",
   "metadata": {},
   "outputs": [],
   "source": [
    "cred=data['Credit Score']"
   ]
  },
  {
   "cell_type": "code",
   "execution_count": 84,
   "id": "4635b333",
   "metadata": {},
   "outputs": [],
   "source": [
    "ser=pd.Series(cred)"
   ]
  },
  {
   "cell_type": "code",
   "execution_count": 85,
   "id": "d80ecb04",
   "metadata": {},
   "outputs": [
    {
     "data": {
      "text/plain": [
       "0        709.0\n",
       "1          NaN\n",
       "2        741.0\n",
       "3        721.0\n",
       "4          NaN\n",
       "         ...  \n",
       "99995    725.0\n",
       "99996    732.0\n",
       "99997    742.0\n",
       "99998    746.0\n",
       "99999    743.0\n",
       "Name: Credit Score, Length: 99796, dtype: float64"
      ]
     },
     "execution_count": 85,
     "metadata": {},
     "output_type": "execute_result"
    }
   ],
   "source": [
    "ser"
   ]
  },
  {
   "cell_type": "code",
   "execution_count": 86,
   "id": "5f3d5566",
   "metadata": {},
   "outputs": [],
   "source": [
    "data['credit score']=ser.interpolate()"
   ]
  },
  {
   "cell_type": "code",
   "execution_count": 87,
   "id": "c4ee0b13",
   "metadata": {},
   "outputs": [
    {
     "data": {
      "text/plain": [
       "0        709.0\n",
       "1        725.0\n",
       "2        741.0\n",
       "3        721.0\n",
       "4        725.0\n",
       "         ...  \n",
       "99995    725.0\n",
       "99996    732.0\n",
       "99997    742.0\n",
       "99998    746.0\n",
       "99999    743.0\n",
       "Name: credit score, Length: 99796, dtype: float64"
      ]
     },
     "execution_count": 87,
     "metadata": {},
     "output_type": "execute_result"
    }
   ],
   "source": [
    "data['credit score']"
   ]
  },
  {
   "cell_type": "code",
   "execution_count": 88,
   "id": "16e3112e",
   "metadata": {},
   "outputs": [],
   "source": [
    "ann=pd.Series(data['Annual Income'])"
   ]
  },
  {
   "cell_type": "code",
   "execution_count": 89,
   "id": "71734ffb",
   "metadata": {},
   "outputs": [
    {
     "data": {
      "text/plain": [
       "0        1167493.0\n",
       "1              NaN\n",
       "2        2231892.0\n",
       "3         806949.0\n",
       "4              NaN\n",
       "           ...    \n",
       "99995     475437.0\n",
       "99996    1289416.0\n",
       "99997    1150545.0\n",
       "99998    1717524.0\n",
       "99999     935180.0\n",
       "Name: Annual Income, Length: 99796, dtype: float64"
      ]
     },
     "execution_count": 89,
     "metadata": {},
     "output_type": "execute_result"
    }
   ],
   "source": [
    "ann"
   ]
  },
  {
   "cell_type": "code",
   "execution_count": 90,
   "id": "784793bd",
   "metadata": {},
   "outputs": [],
   "source": [
    "data['annual income']=ann.interpolate()"
   ]
  },
  {
   "cell_type": "code",
   "execution_count": 91,
   "id": "6ef8ccc4",
   "metadata": {},
   "outputs": [
    {
     "data": {
      "text/plain": [
       "0        1167493.0\n",
       "1        1699692.5\n",
       "2        2231892.0\n",
       "3         806949.0\n",
       "4         851903.0\n",
       "           ...    \n",
       "99995     475437.0\n",
       "99996    1289416.0\n",
       "99997    1150545.0\n",
       "99998    1717524.0\n",
       "99999     935180.0\n",
       "Name: annual income, Length: 99796, dtype: float64"
      ]
     },
     "execution_count": 91,
     "metadata": {},
     "output_type": "execute_result"
    }
   ],
   "source": [
    "data['annual income']"
   ]
  },
  {
   "cell_type": "code",
   "execution_count": 92,
   "id": "4de64e4f",
   "metadata": {},
   "outputs": [
    {
     "data": {
      "text/html": [
       "<div>\n",
       "<style scoped>\n",
       "    .dataframe tbody tr th:only-of-type {\n",
       "        vertical-align: middle;\n",
       "    }\n",
       "\n",
       "    .dataframe tbody tr th {\n",
       "        vertical-align: top;\n",
       "    }\n",
       "\n",
       "    .dataframe thead th {\n",
       "        text-align: right;\n",
       "    }\n",
       "</style>\n",
       "<table border=\"1\" class=\"dataframe\">\n",
       "  <thead>\n",
       "    <tr style=\"text-align: right;\">\n",
       "      <th></th>\n",
       "      <th>Loan ID</th>\n",
       "      <th>Customer ID</th>\n",
       "      <th>Loan Status</th>\n",
       "      <th>Current Loan Amount</th>\n",
       "      <th>Term</th>\n",
       "      <th>Credit Score</th>\n",
       "      <th>Annual Income</th>\n",
       "      <th>Years in current job</th>\n",
       "      <th>Home Ownership</th>\n",
       "      <th>Purpose</th>\n",
       "      <th>Monthly Debt</th>\n",
       "      <th>Years of Credit History</th>\n",
       "      <th>Number of Open Accounts</th>\n",
       "      <th>Number of Credit Problems</th>\n",
       "      <th>Current Credit Balance</th>\n",
       "      <th>Maximum Open Credit</th>\n",
       "      <th>Bankruptcies</th>\n",
       "      <th>Tax Liens</th>\n",
       "      <th>credit score</th>\n",
       "      <th>annual income</th>\n",
       "    </tr>\n",
       "  </thead>\n",
       "  <tbody>\n",
       "    <tr>\n",
       "      <th>0</th>\n",
       "      <td>14dd8831-6af5-400b-83ec-68e61888a048</td>\n",
       "      <td>981165ec-3274-42f5-a3b4-d104041a9ca9</td>\n",
       "      <td>Fully Paid</td>\n",
       "      <td>445412.0</td>\n",
       "      <td>Short Term</td>\n",
       "      <td>709.0</td>\n",
       "      <td>1167493.0</td>\n",
       "      <td>8 years</td>\n",
       "      <td>Home Mortgage</td>\n",
       "      <td>Home Improvements</td>\n",
       "      <td>5214.74</td>\n",
       "      <td>17.2</td>\n",
       "      <td>6.0</td>\n",
       "      <td>1.0</td>\n",
       "      <td>228190.0</td>\n",
       "      <td>416746.0</td>\n",
       "      <td>1.0</td>\n",
       "      <td>0.0</td>\n",
       "      <td>709.0</td>\n",
       "      <td>1167493.0</td>\n",
       "    </tr>\n",
       "    <tr>\n",
       "      <th>1</th>\n",
       "      <td>4771cc26-131a-45db-b5aa-537ea4ba5342</td>\n",
       "      <td>2de017a3-2e01-49cb-a581-08169e83be29</td>\n",
       "      <td>Fully Paid</td>\n",
       "      <td>262328.0</td>\n",
       "      <td>Short Term</td>\n",
       "      <td>NaN</td>\n",
       "      <td>NaN</td>\n",
       "      <td>10+ years</td>\n",
       "      <td>Home Mortgage</td>\n",
       "      <td>Debt Consolidation</td>\n",
       "      <td>33295.98</td>\n",
       "      <td>21.1</td>\n",
       "      <td>35.0</td>\n",
       "      <td>0.0</td>\n",
       "      <td>229976.0</td>\n",
       "      <td>850784.0</td>\n",
       "      <td>0.0</td>\n",
       "      <td>0.0</td>\n",
       "      <td>725.0</td>\n",
       "      <td>1699692.5</td>\n",
       "    </tr>\n",
       "    <tr>\n",
       "      <th>2</th>\n",
       "      <td>4eed4e6a-aa2f-4c91-8651-ce984ee8fb26</td>\n",
       "      <td>5efb2b2b-bf11-4dfd-a572-3761a2694725</td>\n",
       "      <td>Fully Paid</td>\n",
       "      <td>99999999.0</td>\n",
       "      <td>Short Term</td>\n",
       "      <td>741.0</td>\n",
       "      <td>2231892.0</td>\n",
       "      <td>8 years</td>\n",
       "      <td>Own Home</td>\n",
       "      <td>Debt Consolidation</td>\n",
       "      <td>29200.53</td>\n",
       "      <td>14.9</td>\n",
       "      <td>18.0</td>\n",
       "      <td>1.0</td>\n",
       "      <td>297996.0</td>\n",
       "      <td>750090.0</td>\n",
       "      <td>0.0</td>\n",
       "      <td>0.0</td>\n",
       "      <td>741.0</td>\n",
       "      <td>2231892.0</td>\n",
       "    </tr>\n",
       "    <tr>\n",
       "      <th>3</th>\n",
       "      <td>77598f7b-32e7-4e3b-a6e5-06ba0d98fe8a</td>\n",
       "      <td>e777faab-98ae-45af-9a86-7ce5b33b1011</td>\n",
       "      <td>Fully Paid</td>\n",
       "      <td>347666.0</td>\n",
       "      <td>Long Term</td>\n",
       "      <td>721.0</td>\n",
       "      <td>806949.0</td>\n",
       "      <td>3 years</td>\n",
       "      <td>Own Home</td>\n",
       "      <td>Debt Consolidation</td>\n",
       "      <td>8741.90</td>\n",
       "      <td>12.0</td>\n",
       "      <td>9.0</td>\n",
       "      <td>0.0</td>\n",
       "      <td>256329.0</td>\n",
       "      <td>386958.0</td>\n",
       "      <td>0.0</td>\n",
       "      <td>0.0</td>\n",
       "      <td>721.0</td>\n",
       "      <td>806949.0</td>\n",
       "    </tr>\n",
       "    <tr>\n",
       "      <th>4</th>\n",
       "      <td>d4062e70-befa-4995-8643-a0de73938182</td>\n",
       "      <td>81536ad9-5ccf-4eb8-befb-47a4d608658e</td>\n",
       "      <td>Fully Paid</td>\n",
       "      <td>176220.0</td>\n",
       "      <td>Short Term</td>\n",
       "      <td>NaN</td>\n",
       "      <td>NaN</td>\n",
       "      <td>5 years</td>\n",
       "      <td>Rent</td>\n",
       "      <td>Debt Consolidation</td>\n",
       "      <td>20639.70</td>\n",
       "      <td>6.1</td>\n",
       "      <td>15.0</td>\n",
       "      <td>0.0</td>\n",
       "      <td>253460.0</td>\n",
       "      <td>427174.0</td>\n",
       "      <td>0.0</td>\n",
       "      <td>0.0</td>\n",
       "      <td>725.0</td>\n",
       "      <td>851903.0</td>\n",
       "    </tr>\n",
       "  </tbody>\n",
       "</table>\n",
       "</div>"
      ],
      "text/plain": [
       "                                Loan ID                           Customer ID  \\\n",
       "0  14dd8831-6af5-400b-83ec-68e61888a048  981165ec-3274-42f5-a3b4-d104041a9ca9   \n",
       "1  4771cc26-131a-45db-b5aa-537ea4ba5342  2de017a3-2e01-49cb-a581-08169e83be29   \n",
       "2  4eed4e6a-aa2f-4c91-8651-ce984ee8fb26  5efb2b2b-bf11-4dfd-a572-3761a2694725   \n",
       "3  77598f7b-32e7-4e3b-a6e5-06ba0d98fe8a  e777faab-98ae-45af-9a86-7ce5b33b1011   \n",
       "4  d4062e70-befa-4995-8643-a0de73938182  81536ad9-5ccf-4eb8-befb-47a4d608658e   \n",
       "\n",
       "  Loan Status  Current Loan Amount        Term  Credit Score  Annual Income  \\\n",
       "0  Fully Paid             445412.0  Short Term         709.0      1167493.0   \n",
       "1  Fully Paid             262328.0  Short Term           NaN            NaN   \n",
       "2  Fully Paid           99999999.0  Short Term         741.0      2231892.0   \n",
       "3  Fully Paid             347666.0   Long Term         721.0       806949.0   \n",
       "4  Fully Paid             176220.0  Short Term           NaN            NaN   \n",
       "\n",
       "  Years in current job Home Ownership             Purpose  Monthly Debt  \\\n",
       "0              8 years  Home Mortgage   Home Improvements       5214.74   \n",
       "1            10+ years  Home Mortgage  Debt Consolidation      33295.98   \n",
       "2              8 years       Own Home  Debt Consolidation      29200.53   \n",
       "3              3 years       Own Home  Debt Consolidation       8741.90   \n",
       "4              5 years           Rent  Debt Consolidation      20639.70   \n",
       "\n",
       "   Years of Credit History  Number of Open Accounts  \\\n",
       "0                     17.2                      6.0   \n",
       "1                     21.1                     35.0   \n",
       "2                     14.9                     18.0   \n",
       "3                     12.0                      9.0   \n",
       "4                      6.1                     15.0   \n",
       "\n",
       "   Number of Credit Problems  Current Credit Balance  Maximum Open Credit  \\\n",
       "0                        1.0                228190.0             416746.0   \n",
       "1                        0.0                229976.0             850784.0   \n",
       "2                        1.0                297996.0             750090.0   \n",
       "3                        0.0                256329.0             386958.0   \n",
       "4                        0.0                253460.0             427174.0   \n",
       "\n",
       "   Bankruptcies  Tax Liens  credit score  annual income  \n",
       "0           1.0        0.0         709.0      1167493.0  \n",
       "1           0.0        0.0         725.0      1699692.5  \n",
       "2           0.0        0.0         741.0      2231892.0  \n",
       "3           0.0        0.0         721.0       806949.0  \n",
       "4           0.0        0.0         725.0       851903.0  "
      ]
     },
     "execution_count": 92,
     "metadata": {},
     "output_type": "execute_result"
    }
   ],
   "source": [
    "data.head()"
   ]
  },
  {
   "cell_type": "code",
   "execution_count": 93,
   "id": "061177fa",
   "metadata": {},
   "outputs": [],
   "source": [
    "del(data['Credit Score'])"
   ]
  },
  {
   "cell_type": "code",
   "execution_count": 94,
   "id": "1d63acca",
   "metadata": {},
   "outputs": [],
   "source": [
    "del(data['Annual Income'])"
   ]
  },
  {
   "cell_type": "code",
   "execution_count": 95,
   "id": "63f6cb8d",
   "metadata": {},
   "outputs": [
    {
     "data": {
      "text/html": [
       "<div>\n",
       "<style scoped>\n",
       "    .dataframe tbody tr th:only-of-type {\n",
       "        vertical-align: middle;\n",
       "    }\n",
       "\n",
       "    .dataframe tbody tr th {\n",
       "        vertical-align: top;\n",
       "    }\n",
       "\n",
       "    .dataframe thead th {\n",
       "        text-align: right;\n",
       "    }\n",
       "</style>\n",
       "<table border=\"1\" class=\"dataframe\">\n",
       "  <thead>\n",
       "    <tr style=\"text-align: right;\">\n",
       "      <th></th>\n",
       "      <th>Loan ID</th>\n",
       "      <th>Customer ID</th>\n",
       "      <th>Loan Status</th>\n",
       "      <th>Current Loan Amount</th>\n",
       "      <th>Term</th>\n",
       "      <th>Years in current job</th>\n",
       "      <th>Home Ownership</th>\n",
       "      <th>Purpose</th>\n",
       "      <th>Monthly Debt</th>\n",
       "      <th>Years of Credit History</th>\n",
       "      <th>Number of Open Accounts</th>\n",
       "      <th>Number of Credit Problems</th>\n",
       "      <th>Current Credit Balance</th>\n",
       "      <th>Maximum Open Credit</th>\n",
       "      <th>Bankruptcies</th>\n",
       "      <th>Tax Liens</th>\n",
       "      <th>credit score</th>\n",
       "      <th>annual income</th>\n",
       "    </tr>\n",
       "  </thead>\n",
       "  <tbody>\n",
       "    <tr>\n",
       "      <th>0</th>\n",
       "      <td>14dd8831-6af5-400b-83ec-68e61888a048</td>\n",
       "      <td>981165ec-3274-42f5-a3b4-d104041a9ca9</td>\n",
       "      <td>Fully Paid</td>\n",
       "      <td>445412.0</td>\n",
       "      <td>Short Term</td>\n",
       "      <td>8 years</td>\n",
       "      <td>Home Mortgage</td>\n",
       "      <td>Home Improvements</td>\n",
       "      <td>5214.74</td>\n",
       "      <td>17.2</td>\n",
       "      <td>6.0</td>\n",
       "      <td>1.0</td>\n",
       "      <td>228190.0</td>\n",
       "      <td>416746.0</td>\n",
       "      <td>1.0</td>\n",
       "      <td>0.0</td>\n",
       "      <td>709.0</td>\n",
       "      <td>1167493.0</td>\n",
       "    </tr>\n",
       "    <tr>\n",
       "      <th>1</th>\n",
       "      <td>4771cc26-131a-45db-b5aa-537ea4ba5342</td>\n",
       "      <td>2de017a3-2e01-49cb-a581-08169e83be29</td>\n",
       "      <td>Fully Paid</td>\n",
       "      <td>262328.0</td>\n",
       "      <td>Short Term</td>\n",
       "      <td>10+ years</td>\n",
       "      <td>Home Mortgage</td>\n",
       "      <td>Debt Consolidation</td>\n",
       "      <td>33295.98</td>\n",
       "      <td>21.1</td>\n",
       "      <td>35.0</td>\n",
       "      <td>0.0</td>\n",
       "      <td>229976.0</td>\n",
       "      <td>850784.0</td>\n",
       "      <td>0.0</td>\n",
       "      <td>0.0</td>\n",
       "      <td>725.0</td>\n",
       "      <td>1699692.5</td>\n",
       "    </tr>\n",
       "    <tr>\n",
       "      <th>2</th>\n",
       "      <td>4eed4e6a-aa2f-4c91-8651-ce984ee8fb26</td>\n",
       "      <td>5efb2b2b-bf11-4dfd-a572-3761a2694725</td>\n",
       "      <td>Fully Paid</td>\n",
       "      <td>99999999.0</td>\n",
       "      <td>Short Term</td>\n",
       "      <td>8 years</td>\n",
       "      <td>Own Home</td>\n",
       "      <td>Debt Consolidation</td>\n",
       "      <td>29200.53</td>\n",
       "      <td>14.9</td>\n",
       "      <td>18.0</td>\n",
       "      <td>1.0</td>\n",
       "      <td>297996.0</td>\n",
       "      <td>750090.0</td>\n",
       "      <td>0.0</td>\n",
       "      <td>0.0</td>\n",
       "      <td>741.0</td>\n",
       "      <td>2231892.0</td>\n",
       "    </tr>\n",
       "    <tr>\n",
       "      <th>3</th>\n",
       "      <td>77598f7b-32e7-4e3b-a6e5-06ba0d98fe8a</td>\n",
       "      <td>e777faab-98ae-45af-9a86-7ce5b33b1011</td>\n",
       "      <td>Fully Paid</td>\n",
       "      <td>347666.0</td>\n",
       "      <td>Long Term</td>\n",
       "      <td>3 years</td>\n",
       "      <td>Own Home</td>\n",
       "      <td>Debt Consolidation</td>\n",
       "      <td>8741.90</td>\n",
       "      <td>12.0</td>\n",
       "      <td>9.0</td>\n",
       "      <td>0.0</td>\n",
       "      <td>256329.0</td>\n",
       "      <td>386958.0</td>\n",
       "      <td>0.0</td>\n",
       "      <td>0.0</td>\n",
       "      <td>721.0</td>\n",
       "      <td>806949.0</td>\n",
       "    </tr>\n",
       "    <tr>\n",
       "      <th>4</th>\n",
       "      <td>d4062e70-befa-4995-8643-a0de73938182</td>\n",
       "      <td>81536ad9-5ccf-4eb8-befb-47a4d608658e</td>\n",
       "      <td>Fully Paid</td>\n",
       "      <td>176220.0</td>\n",
       "      <td>Short Term</td>\n",
       "      <td>5 years</td>\n",
       "      <td>Rent</td>\n",
       "      <td>Debt Consolidation</td>\n",
       "      <td>20639.70</td>\n",
       "      <td>6.1</td>\n",
       "      <td>15.0</td>\n",
       "      <td>0.0</td>\n",
       "      <td>253460.0</td>\n",
       "      <td>427174.0</td>\n",
       "      <td>0.0</td>\n",
       "      <td>0.0</td>\n",
       "      <td>725.0</td>\n",
       "      <td>851903.0</td>\n",
       "    </tr>\n",
       "  </tbody>\n",
       "</table>\n",
       "</div>"
      ],
      "text/plain": [
       "                                Loan ID                           Customer ID  \\\n",
       "0  14dd8831-6af5-400b-83ec-68e61888a048  981165ec-3274-42f5-a3b4-d104041a9ca9   \n",
       "1  4771cc26-131a-45db-b5aa-537ea4ba5342  2de017a3-2e01-49cb-a581-08169e83be29   \n",
       "2  4eed4e6a-aa2f-4c91-8651-ce984ee8fb26  5efb2b2b-bf11-4dfd-a572-3761a2694725   \n",
       "3  77598f7b-32e7-4e3b-a6e5-06ba0d98fe8a  e777faab-98ae-45af-9a86-7ce5b33b1011   \n",
       "4  d4062e70-befa-4995-8643-a0de73938182  81536ad9-5ccf-4eb8-befb-47a4d608658e   \n",
       "\n",
       "  Loan Status  Current Loan Amount        Term Years in current job  \\\n",
       "0  Fully Paid             445412.0  Short Term              8 years   \n",
       "1  Fully Paid             262328.0  Short Term            10+ years   \n",
       "2  Fully Paid           99999999.0  Short Term              8 years   \n",
       "3  Fully Paid             347666.0   Long Term              3 years   \n",
       "4  Fully Paid             176220.0  Short Term              5 years   \n",
       "\n",
       "  Home Ownership             Purpose  Monthly Debt  Years of Credit History  \\\n",
       "0  Home Mortgage   Home Improvements       5214.74                     17.2   \n",
       "1  Home Mortgage  Debt Consolidation      33295.98                     21.1   \n",
       "2       Own Home  Debt Consolidation      29200.53                     14.9   \n",
       "3       Own Home  Debt Consolidation       8741.90                     12.0   \n",
       "4           Rent  Debt Consolidation      20639.70                      6.1   \n",
       "\n",
       "   Number of Open Accounts  Number of Credit Problems  Current Credit Balance  \\\n",
       "0                      6.0                        1.0                228190.0   \n",
       "1                     35.0                        0.0                229976.0   \n",
       "2                     18.0                        1.0                297996.0   \n",
       "3                      9.0                        0.0                256329.0   \n",
       "4                     15.0                        0.0                253460.0   \n",
       "\n",
       "   Maximum Open Credit  Bankruptcies  Tax Liens  credit score  annual income  \n",
       "0             416746.0           1.0        0.0         709.0      1167493.0  \n",
       "1             850784.0           0.0        0.0         725.0      1699692.5  \n",
       "2             750090.0           0.0        0.0         741.0      2231892.0  \n",
       "3             386958.0           0.0        0.0         721.0       806949.0  \n",
       "4             427174.0           0.0        0.0         725.0       851903.0  "
      ]
     },
     "execution_count": 95,
     "metadata": {},
     "output_type": "execute_result"
    }
   ],
   "source": [
    "data.head()"
   ]
  },
  {
   "cell_type": "code",
   "execution_count": 96,
   "id": "07bf32e2",
   "metadata": {},
   "outputs": [
    {
     "data": {
      "text/plain": [
       "Loan ID                         0\n",
       "Customer ID                     0\n",
       "Loan Status                     0\n",
       "Current Loan Amount             0\n",
       "Term                            0\n",
       "Years in current job         4222\n",
       "Home Ownership                  0\n",
       "Purpose                         0\n",
       "Monthly Debt                    0\n",
       "Years of Credit History         0\n",
       "Number of Open Accounts         0\n",
       "Number of Credit Problems       0\n",
       "Current Credit Balance          0\n",
       "Maximum Open Credit             2\n",
       "Bankruptcies                    0\n",
       "Tax Liens                       0\n",
       "credit score                    0\n",
       "annual income                   0\n",
       "dtype: int64"
      ]
     },
     "execution_count": 96,
     "metadata": {},
     "output_type": "execute_result"
    }
   ],
   "source": [
    "data.isnull().sum()"
   ]
  },
  {
   "cell_type": "code",
   "execution_count": 97,
   "id": "3cd0c0ad",
   "metadata": {},
   "outputs": [
    {
     "data": {
      "text/html": [
       "<div>\n",
       "<style scoped>\n",
       "    .dataframe tbody tr th:only-of-type {\n",
       "        vertical-align: middle;\n",
       "    }\n",
       "\n",
       "    .dataframe tbody tr th {\n",
       "        vertical-align: top;\n",
       "    }\n",
       "\n",
       "    .dataframe thead th {\n",
       "        text-align: right;\n",
       "    }\n",
       "</style>\n",
       "<table border=\"1\" class=\"dataframe\">\n",
       "  <thead>\n",
       "    <tr style=\"text-align: right;\">\n",
       "      <th></th>\n",
       "      <th>Years in current job</th>\n",
       "      <th>credit score</th>\n",
       "    </tr>\n",
       "  </thead>\n",
       "  <tbody>\n",
       "    <tr>\n",
       "      <th>0</th>\n",
       "      <td>8 years</td>\n",
       "      <td>709.0</td>\n",
       "    </tr>\n",
       "    <tr>\n",
       "      <th>1</th>\n",
       "      <td>10+ years</td>\n",
       "      <td>725.0</td>\n",
       "    </tr>\n",
       "    <tr>\n",
       "      <th>2</th>\n",
       "      <td>8 years</td>\n",
       "      <td>741.0</td>\n",
       "    </tr>\n",
       "    <tr>\n",
       "      <th>3</th>\n",
       "      <td>3 years</td>\n",
       "      <td>721.0</td>\n",
       "    </tr>\n",
       "    <tr>\n",
       "      <th>4</th>\n",
       "      <td>5 years</td>\n",
       "      <td>725.0</td>\n",
       "    </tr>\n",
       "    <tr>\n",
       "      <th>...</th>\n",
       "      <td>...</td>\n",
       "      <td>...</td>\n",
       "    </tr>\n",
       "    <tr>\n",
       "      <th>99995</th>\n",
       "      <td>7 years</td>\n",
       "      <td>725.0</td>\n",
       "    </tr>\n",
       "    <tr>\n",
       "      <th>99996</th>\n",
       "      <td>1 year</td>\n",
       "      <td>732.0</td>\n",
       "    </tr>\n",
       "    <tr>\n",
       "      <th>99997</th>\n",
       "      <td>6 years</td>\n",
       "      <td>742.0</td>\n",
       "    </tr>\n",
       "    <tr>\n",
       "      <th>99998</th>\n",
       "      <td>9 years</td>\n",
       "      <td>746.0</td>\n",
       "    </tr>\n",
       "    <tr>\n",
       "      <th>99999</th>\n",
       "      <td>NaN</td>\n",
       "      <td>743.0</td>\n",
       "    </tr>\n",
       "  </tbody>\n",
       "</table>\n",
       "<p>99796 rows × 2 columns</p>\n",
       "</div>"
      ],
      "text/plain": [
       "      Years in current job  credit score\n",
       "0                  8 years         709.0\n",
       "1                10+ years         725.0\n",
       "2                  8 years         741.0\n",
       "3                  3 years         721.0\n",
       "4                  5 years         725.0\n",
       "...                    ...           ...\n",
       "99995              7 years         725.0\n",
       "99996               1 year         732.0\n",
       "99997              6 years         742.0\n",
       "99998              9 years         746.0\n",
       "99999                  NaN         743.0\n",
       "\n",
       "[99796 rows x 2 columns]"
      ]
     },
     "execution_count": 97,
     "metadata": {},
     "output_type": "execute_result"
    }
   ],
   "source": [
    "data[['Years in current job','credit score']]"
   ]
  },
  {
   "cell_type": "code",
   "execution_count": 98,
   "id": "cf25e65f",
   "metadata": {},
   "outputs": [
    {
     "data": {
      "text/html": [
       "<div>\n",
       "<style scoped>\n",
       "    .dataframe tbody tr th:only-of-type {\n",
       "        vertical-align: middle;\n",
       "    }\n",
       "\n",
       "    .dataframe tbody tr th {\n",
       "        vertical-align: top;\n",
       "    }\n",
       "\n",
       "    .dataframe thead th {\n",
       "        text-align: right;\n",
       "    }\n",
       "</style>\n",
       "<table border=\"1\" class=\"dataframe\">\n",
       "  <thead>\n",
       "    <tr style=\"text-align: right;\">\n",
       "      <th></th>\n",
       "      <th>Loan ID</th>\n",
       "      <th>Customer ID</th>\n",
       "      <th>Loan Status</th>\n",
       "      <th>Current Loan Amount</th>\n",
       "      <th>Term</th>\n",
       "      <th>Years in current job</th>\n",
       "      <th>Home Ownership</th>\n",
       "      <th>Purpose</th>\n",
       "      <th>Monthly Debt</th>\n",
       "      <th>Years of Credit History</th>\n",
       "      <th>Number of Open Accounts</th>\n",
       "      <th>Number of Credit Problems</th>\n",
       "      <th>Current Credit Balance</th>\n",
       "      <th>Maximum Open Credit</th>\n",
       "      <th>Bankruptcies</th>\n",
       "      <th>Tax Liens</th>\n",
       "      <th>credit score</th>\n",
       "      <th>annual income</th>\n",
       "    </tr>\n",
       "  </thead>\n",
       "  <tbody>\n",
       "    <tr>\n",
       "      <th>0</th>\n",
       "      <td>14dd8831-6af5-400b-83ec-68e61888a048</td>\n",
       "      <td>981165ec-3274-42f5-a3b4-d104041a9ca9</td>\n",
       "      <td>Fully Paid</td>\n",
       "      <td>445412.0</td>\n",
       "      <td>Short Term</td>\n",
       "      <td>8 years</td>\n",
       "      <td>Home Mortgage</td>\n",
       "      <td>Home Improvements</td>\n",
       "      <td>5214.74</td>\n",
       "      <td>17.2</td>\n",
       "      <td>6.0</td>\n",
       "      <td>1.0</td>\n",
       "      <td>228190.0</td>\n",
       "      <td>416746.0</td>\n",
       "      <td>1.0</td>\n",
       "      <td>0.0</td>\n",
       "      <td>709.000000</td>\n",
       "      <td>1.167493e+06</td>\n",
       "    </tr>\n",
       "    <tr>\n",
       "      <th>1</th>\n",
       "      <td>4771cc26-131a-45db-b5aa-537ea4ba5342</td>\n",
       "      <td>2de017a3-2e01-49cb-a581-08169e83be29</td>\n",
       "      <td>Fully Paid</td>\n",
       "      <td>262328.0</td>\n",
       "      <td>Short Term</td>\n",
       "      <td>10+ years</td>\n",
       "      <td>Home Mortgage</td>\n",
       "      <td>Debt Consolidation</td>\n",
       "      <td>33295.98</td>\n",
       "      <td>21.1</td>\n",
       "      <td>35.0</td>\n",
       "      <td>0.0</td>\n",
       "      <td>229976.0</td>\n",
       "      <td>850784.0</td>\n",
       "      <td>0.0</td>\n",
       "      <td>0.0</td>\n",
       "      <td>725.000000</td>\n",
       "      <td>1.699692e+06</td>\n",
       "    </tr>\n",
       "    <tr>\n",
       "      <th>2</th>\n",
       "      <td>4eed4e6a-aa2f-4c91-8651-ce984ee8fb26</td>\n",
       "      <td>5efb2b2b-bf11-4dfd-a572-3761a2694725</td>\n",
       "      <td>Fully Paid</td>\n",
       "      <td>99999999.0</td>\n",
       "      <td>Short Term</td>\n",
       "      <td>8 years</td>\n",
       "      <td>Own Home</td>\n",
       "      <td>Debt Consolidation</td>\n",
       "      <td>29200.53</td>\n",
       "      <td>14.9</td>\n",
       "      <td>18.0</td>\n",
       "      <td>1.0</td>\n",
       "      <td>297996.0</td>\n",
       "      <td>750090.0</td>\n",
       "      <td>0.0</td>\n",
       "      <td>0.0</td>\n",
       "      <td>741.000000</td>\n",
       "      <td>2.231892e+06</td>\n",
       "    </tr>\n",
       "    <tr>\n",
       "      <th>3</th>\n",
       "      <td>77598f7b-32e7-4e3b-a6e5-06ba0d98fe8a</td>\n",
       "      <td>e777faab-98ae-45af-9a86-7ce5b33b1011</td>\n",
       "      <td>Fully Paid</td>\n",
       "      <td>347666.0</td>\n",
       "      <td>Long Term</td>\n",
       "      <td>3 years</td>\n",
       "      <td>Own Home</td>\n",
       "      <td>Debt Consolidation</td>\n",
       "      <td>8741.90</td>\n",
       "      <td>12.0</td>\n",
       "      <td>9.0</td>\n",
       "      <td>0.0</td>\n",
       "      <td>256329.0</td>\n",
       "      <td>386958.0</td>\n",
       "      <td>0.0</td>\n",
       "      <td>0.0</td>\n",
       "      <td>721.000000</td>\n",
       "      <td>8.069490e+05</td>\n",
       "    </tr>\n",
       "    <tr>\n",
       "      <th>4</th>\n",
       "      <td>d4062e70-befa-4995-8643-a0de73938182</td>\n",
       "      <td>81536ad9-5ccf-4eb8-befb-47a4d608658e</td>\n",
       "      <td>Fully Paid</td>\n",
       "      <td>176220.0</td>\n",
       "      <td>Short Term</td>\n",
       "      <td>5 years</td>\n",
       "      <td>Rent</td>\n",
       "      <td>Debt Consolidation</td>\n",
       "      <td>20639.70</td>\n",
       "      <td>6.1</td>\n",
       "      <td>15.0</td>\n",
       "      <td>0.0</td>\n",
       "      <td>253460.0</td>\n",
       "      <td>427174.0</td>\n",
       "      <td>0.0</td>\n",
       "      <td>0.0</td>\n",
       "      <td>725.000000</td>\n",
       "      <td>8.519030e+05</td>\n",
       "    </tr>\n",
       "    <tr>\n",
       "      <th>...</th>\n",
       "      <td>...</td>\n",
       "      <td>...</td>\n",
       "      <td>...</td>\n",
       "      <td>...</td>\n",
       "      <td>...</td>\n",
       "      <td>...</td>\n",
       "      <td>...</td>\n",
       "      <td>...</td>\n",
       "      <td>...</td>\n",
       "      <td>...</td>\n",
       "      <td>...</td>\n",
       "      <td>...</td>\n",
       "      <td>...</td>\n",
       "      <td>...</td>\n",
       "      <td>...</td>\n",
       "      <td>...</td>\n",
       "      <td>...</td>\n",
       "      <td>...</td>\n",
       "    </tr>\n",
       "    <tr>\n",
       "      <th>95</th>\n",
       "      <td>ed6b4f20-6897-44b9-b36c-834f5f371853</td>\n",
       "      <td>bc653e0d-ccac-4114-b998-f53c9f2dffc8</td>\n",
       "      <td>Fully Paid</td>\n",
       "      <td>432080.0</td>\n",
       "      <td>Short Term</td>\n",
       "      <td>10+ years</td>\n",
       "      <td>Rent</td>\n",
       "      <td>Debt Consolidation</td>\n",
       "      <td>35360.14</td>\n",
       "      <td>17.9</td>\n",
       "      <td>22.0</td>\n",
       "      <td>0.0</td>\n",
       "      <td>160550.0</td>\n",
       "      <td>685982.0</td>\n",
       "      <td>0.0</td>\n",
       "      <td>0.0</td>\n",
       "      <td>736.666667</td>\n",
       "      <td>6.810993e+05</td>\n",
       "    </tr>\n",
       "    <tr>\n",
       "      <th>96</th>\n",
       "      <td>4cfa482a-57c2-4856-ab26-a8af32adaa3f</td>\n",
       "      <td>403bdb3c-e326-4172-9f81-4e6b992cc349</td>\n",
       "      <td>Fully Paid</td>\n",
       "      <td>158818.0</td>\n",
       "      <td>Short Term</td>\n",
       "      <td>NaN</td>\n",
       "      <td>Own Home</td>\n",
       "      <td>Debt Consolidation</td>\n",
       "      <td>8522.83</td>\n",
       "      <td>31.3</td>\n",
       "      <td>13.0</td>\n",
       "      <td>2.0</td>\n",
       "      <td>260072.0</td>\n",
       "      <td>756646.0</td>\n",
       "      <td>0.0</td>\n",
       "      <td>2.0</td>\n",
       "      <td>731.000000</td>\n",
       "      <td>3.156660e+05</td>\n",
       "    </tr>\n",
       "    <tr>\n",
       "      <th>97</th>\n",
       "      <td>87260afa-a95d-4507-9db0-c8eeb5db5aef</td>\n",
       "      <td>168cc347-945f-43d4-827b-1c06c7a80722</td>\n",
       "      <td>Charged Off</td>\n",
       "      <td>78738.0</td>\n",
       "      <td>Short Term</td>\n",
       "      <td>2 years</td>\n",
       "      <td>Rent</td>\n",
       "      <td>Other</td>\n",
       "      <td>14034.92</td>\n",
       "      <td>10.5</td>\n",
       "      <td>14.0</td>\n",
       "      <td>0.0</td>\n",
       "      <td>138586.0</td>\n",
       "      <td>266112.0</td>\n",
       "      <td>0.0</td>\n",
       "      <td>0.0</td>\n",
       "      <td>624.000000</td>\n",
       "      <td>5.363700e+05</td>\n",
       "    </tr>\n",
       "    <tr>\n",
       "      <th>98</th>\n",
       "      <td>10da47ac-d3ce-461c-bf95-1b9d0cac176f</td>\n",
       "      <td>d110ff2c-c936-487a-8e4f-8a192bad9cd8</td>\n",
       "      <td>Fully Paid</td>\n",
       "      <td>453464.0</td>\n",
       "      <td>Short Term</td>\n",
       "      <td>3 years</td>\n",
       "      <td>Rent</td>\n",
       "      <td>Debt Consolidation</td>\n",
       "      <td>17007.85</td>\n",
       "      <td>14.2</td>\n",
       "      <td>12.0</td>\n",
       "      <td>1.0</td>\n",
       "      <td>137845.0</td>\n",
       "      <td>222926.0</td>\n",
       "      <td>1.0</td>\n",
       "      <td>0.0</td>\n",
       "      <td>712.000000</td>\n",
       "      <td>8.951470e+05</td>\n",
       "    </tr>\n",
       "    <tr>\n",
       "      <th>99</th>\n",
       "      <td>65eff4d6-e64b-405f-abe9-b8e0c273397c</td>\n",
       "      <td>e298cbfc-074f-4441-9faf-d452aba7487f</td>\n",
       "      <td>Fully Paid</td>\n",
       "      <td>595672.0</td>\n",
       "      <td>Short Term</td>\n",
       "      <td>10+ years</td>\n",
       "      <td>Rent</td>\n",
       "      <td>Debt Consolidation</td>\n",
       "      <td>13603.43</td>\n",
       "      <td>25.9</td>\n",
       "      <td>8.0</td>\n",
       "      <td>0.0</td>\n",
       "      <td>108148.0</td>\n",
       "      <td>129624.0</td>\n",
       "      <td>0.0</td>\n",
       "      <td>0.0</td>\n",
       "      <td>685.000000</td>\n",
       "      <td>1.305927e+06</td>\n",
       "    </tr>\n",
       "  </tbody>\n",
       "</table>\n",
       "<p>100 rows × 18 columns</p>\n",
       "</div>"
      ],
      "text/plain": [
       "                                 Loan ID  \\\n",
       "0   14dd8831-6af5-400b-83ec-68e61888a048   \n",
       "1   4771cc26-131a-45db-b5aa-537ea4ba5342   \n",
       "2   4eed4e6a-aa2f-4c91-8651-ce984ee8fb26   \n",
       "3   77598f7b-32e7-4e3b-a6e5-06ba0d98fe8a   \n",
       "4   d4062e70-befa-4995-8643-a0de73938182   \n",
       "..                                   ...   \n",
       "95  ed6b4f20-6897-44b9-b36c-834f5f371853   \n",
       "96  4cfa482a-57c2-4856-ab26-a8af32adaa3f   \n",
       "97  87260afa-a95d-4507-9db0-c8eeb5db5aef   \n",
       "98  10da47ac-d3ce-461c-bf95-1b9d0cac176f   \n",
       "99  65eff4d6-e64b-405f-abe9-b8e0c273397c   \n",
       "\n",
       "                             Customer ID  Loan Status  Current Loan Amount  \\\n",
       "0   981165ec-3274-42f5-a3b4-d104041a9ca9   Fully Paid             445412.0   \n",
       "1   2de017a3-2e01-49cb-a581-08169e83be29   Fully Paid             262328.0   \n",
       "2   5efb2b2b-bf11-4dfd-a572-3761a2694725   Fully Paid           99999999.0   \n",
       "3   e777faab-98ae-45af-9a86-7ce5b33b1011   Fully Paid             347666.0   \n",
       "4   81536ad9-5ccf-4eb8-befb-47a4d608658e   Fully Paid             176220.0   \n",
       "..                                   ...          ...                  ...   \n",
       "95  bc653e0d-ccac-4114-b998-f53c9f2dffc8   Fully Paid             432080.0   \n",
       "96  403bdb3c-e326-4172-9f81-4e6b992cc349   Fully Paid             158818.0   \n",
       "97  168cc347-945f-43d4-827b-1c06c7a80722  Charged Off              78738.0   \n",
       "98  d110ff2c-c936-487a-8e4f-8a192bad9cd8   Fully Paid             453464.0   \n",
       "99  e298cbfc-074f-4441-9faf-d452aba7487f   Fully Paid             595672.0   \n",
       "\n",
       "          Term Years in current job Home Ownership             Purpose  \\\n",
       "0   Short Term              8 years  Home Mortgage   Home Improvements   \n",
       "1   Short Term            10+ years  Home Mortgage  Debt Consolidation   \n",
       "2   Short Term              8 years       Own Home  Debt Consolidation   \n",
       "3    Long Term              3 years       Own Home  Debt Consolidation   \n",
       "4   Short Term              5 years           Rent  Debt Consolidation   \n",
       "..         ...                  ...            ...                 ...   \n",
       "95  Short Term            10+ years           Rent  Debt Consolidation   \n",
       "96  Short Term                  NaN       Own Home  Debt Consolidation   \n",
       "97  Short Term              2 years           Rent               Other   \n",
       "98  Short Term              3 years           Rent  Debt Consolidation   \n",
       "99  Short Term            10+ years           Rent  Debt Consolidation   \n",
       "\n",
       "    Monthly Debt  Years of Credit History  Number of Open Accounts  \\\n",
       "0        5214.74                     17.2                      6.0   \n",
       "1       33295.98                     21.1                     35.0   \n",
       "2       29200.53                     14.9                     18.0   \n",
       "3        8741.90                     12.0                      9.0   \n",
       "4       20639.70                      6.1                     15.0   \n",
       "..           ...                      ...                      ...   \n",
       "95      35360.14                     17.9                     22.0   \n",
       "96       8522.83                     31.3                     13.0   \n",
       "97      14034.92                     10.5                     14.0   \n",
       "98      17007.85                     14.2                     12.0   \n",
       "99      13603.43                     25.9                      8.0   \n",
       "\n",
       "    Number of Credit Problems  Current Credit Balance  Maximum Open Credit  \\\n",
       "0                         1.0                228190.0             416746.0   \n",
       "1                         0.0                229976.0             850784.0   \n",
       "2                         1.0                297996.0             750090.0   \n",
       "3                         0.0                256329.0             386958.0   \n",
       "4                         0.0                253460.0             427174.0   \n",
       "..                        ...                     ...                  ...   \n",
       "95                        0.0                160550.0             685982.0   \n",
       "96                        2.0                260072.0             756646.0   \n",
       "97                        0.0                138586.0             266112.0   \n",
       "98                        1.0                137845.0             222926.0   \n",
       "99                        0.0                108148.0             129624.0   \n",
       "\n",
       "    Bankruptcies  Tax Liens  credit score  annual income  \n",
       "0            1.0        0.0    709.000000   1.167493e+06  \n",
       "1            0.0        0.0    725.000000   1.699692e+06  \n",
       "2            0.0        0.0    741.000000   2.231892e+06  \n",
       "3            0.0        0.0    721.000000   8.069490e+05  \n",
       "4            0.0        0.0    725.000000   8.519030e+05  \n",
       "..           ...        ...           ...            ...  \n",
       "95           0.0        0.0    736.666667   6.810993e+05  \n",
       "96           0.0        2.0    731.000000   3.156660e+05  \n",
       "97           0.0        0.0    624.000000   5.363700e+05  \n",
       "98           1.0        0.0    712.000000   8.951470e+05  \n",
       "99           0.0        0.0    685.000000   1.305927e+06  \n",
       "\n",
       "[100 rows x 18 columns]"
      ]
     },
     "execution_count": 98,
     "metadata": {},
     "output_type": "execute_result"
    }
   ],
   "source": [
    "data.head(100)"
   ]
  },
  {
   "cell_type": "markdown",
   "id": "b2e16198",
   "metadata": {},
   "source": [
    "from above we can replace null value of the columna with 10+ year because of the credit score is 700+  in the same row of nan value in Years in current job . it might be possible that person not wish to disclose their annual salary."
   ]
  },
  {
   "cell_type": "code",
   "execution_count": 99,
   "id": "68b61789",
   "metadata": {},
   "outputs": [],
   "source": [
    "data['Years in current job']=data['Years in current job'].fillna('10+ years')"
   ]
  },
  {
   "cell_type": "code",
   "execution_count": 100,
   "id": "f9c6f737",
   "metadata": {},
   "outputs": [
    {
     "data": {
      "text/plain": [
       "10+ years    35313\n",
       "2 years       9105\n",
       "3 years       8151\n",
       "< 1 year      8114\n",
       "5 years       6778\n",
       "1 year        6436\n",
       "4 years       6132\n",
       "6 years       5676\n",
       "7 years       5573\n",
       "8 years       4569\n",
       "9 years       3949\n",
       "Name: Years in current job, dtype: int64"
      ]
     },
     "execution_count": 100,
     "metadata": {},
     "output_type": "execute_result"
    }
   ],
   "source": [
    "data['Years in current job'].value_counts()"
   ]
  },
  {
   "cell_type": "code",
   "execution_count": 106,
   "id": "65e9bc03",
   "metadata": {},
   "outputs": [],
   "source": [
    "data.dropna(axis=0,subset='Maximum Open Credit',inplace=True)"
   ]
  },
  {
   "cell_type": "code",
   "execution_count": 109,
   "id": "e30e45f4",
   "metadata": {},
   "outputs": [
    {
     "data": {
      "text/plain": [
       "Loan ID                      0\n",
       "Customer ID                  0\n",
       "Loan Status                  0\n",
       "Current Loan Amount          0\n",
       "Term                         0\n",
       "Years in current job         0\n",
       "Home Ownership               0\n",
       "Purpose                      0\n",
       "Monthly Debt                 0\n",
       "Years of Credit History      0\n",
       "Number of Open Accounts      0\n",
       "Number of Credit Problems    0\n",
       "Current Credit Balance       0\n",
       "Maximum Open Credit          0\n",
       "Bankruptcies                 0\n",
       "Tax Liens                    0\n",
       "credit score                 0\n",
       "annual income                0\n",
       "dtype: int64"
      ]
     },
     "execution_count": 109,
     "metadata": {},
     "output_type": "execute_result"
    }
   ],
   "source": [
    "data.isnull().sum()"
   ]
  },
  {
   "cell_type": "code",
   "execution_count": 142,
   "id": "903b4d33",
   "metadata": {},
   "outputs": [],
   "source": [
    "## corelation analysis"
   ]
  },
  {
   "cell_type": "code",
   "execution_count": 143,
   "id": "c248fded",
   "metadata": {},
   "outputs": [
    {
     "data": {
      "text/plain": [
       "<AxesSubplot:>"
      ]
     },
     "execution_count": 143,
     "metadata": {},
     "output_type": "execute_result"
    },
    {
     "data": {
      "image/png": "[encoded data removed]",
      "text/plain": [
       "<Figure size 432x288 with 2 Axes>"
      ]
     },
     "metadata": {
      "needs_background": "light"
     },
     "output_type": "display_data"
    }
   ],
   "source": [
    "sns.heatmap(data.corr())"
   ]
  },
  {
   "cell_type": "markdown",
   "id": "60a8b07d",
   "metadata": {},
   "source": [
    "## conclusion "
   ]
  },
  {
   "cell_type": "markdown",
   "id": "4b30c359",
   "metadata": {},
   "source": [
    "1-there are 718 Bankruptcies and 524 Tax liens which is around 0.7 and 0.5 percentage respectively.\n",
    "\n",
    "2-78% customer  get load for purpose of Debt Consolidation.\n",
    "\n",
    "3-max customer who get loan  are either  home mortgage or  rent as  their home Ownership, \n",
    "\n",
    "4- customer who 10+ year in current job can easly get loan.\n",
    "\n",
    "5-there is no loan for whose credit score below 585.\n",
    "\n",
    "6-around 30% loan term are long term rest are short term.\n",
    "\n",
    "7-around 30% of loan customer labeled as charged off or unable to pay their loan."
   ]
  },
  {
   "cell_type": "markdown",
   "id": "92c5f1bd",
   "metadata": {},
   "source": [
    "8- positive relation between Number of Credit Problems with Tax liens and Bankruptcies.\n",
    "\n",
    "9-lighter corelation between current credit balance with monthly debt.\n",
    "\n",
    "10- some positive relation between Monthly debit with Annual income."
   ]
  },
  {
   "cell_type": "code",
   "execution_count": null,
   "id": "13dabc75",
   "metadata": {},
   "outputs": [],
   "source": []
  },
  {
   "cell_type": "code",
   "execution_count": null,
   "id": "a00eb7a9",
   "metadata": {},
   "outputs": [],
   "source": []
  }
 ],
 "metadata": {
  "kernelspec": {
   "display_name": "Python 3 (ipykernel)",
   "language": "python",
   "name": "python3"
  },
  "language_info": {
   "codemirror_mode": {
    "name": "ipython",
    "version": 3
   },
   "file_extension": ".py",
   "mimetype": "text/x-python",
   "name": "python",
   "nbconvert_exporter": "python",
   "pygments_lexer": "ipython3",
   "version": "3.9.12"
  }
 },
 "nbformat": 4,
 "nbformat_minor": 5
}
